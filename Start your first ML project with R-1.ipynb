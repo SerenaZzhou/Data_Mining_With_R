{
 "cells": [
  {
   "cell_type": "code",
   "execution_count": 1,
   "metadata": {
    "collapsed": true
   },
   "outputs": [],
   "source": [
    "#Start your first DM project with R"
   ]
  },
  {
   "cell_type": "code",
   "execution_count": 12,
   "metadata": {
    "collapsed": true
   },
   "outputs": [],
   "source": [
    "#载入数据集(一个简单的分类)"
   ]
  },
  {
   "cell_type": "code",
   "execution_count": 4,
   "metadata": {
    "collapsed": false
   },
   "outputs": [],
   "source": [
    "data(iris) #载入Iris数据集"
   ]
  },
  {
   "cell_type": "code",
   "execution_count": 5,
   "metadata": {
    "collapsed": true
   },
   "outputs": [],
   "source": [
    "dataset<-iris #重命名"
   ]
  },
  {
   "cell_type": "code",
   "execution_count": 9,
   "metadata": {
    "collapsed": false
   },
   "outputs": [],
   "source": [
    "index<-sample(1:nrow(dataset),0.8*nrow(dataset))"
   ]
  },
  {
   "cell_type": "code",
   "execution_count": 10,
   "metadata": {
    "collapsed": true
   },
   "outputs": [],
   "source": [
    "test<-dataset[-index,]"
   ]
  },
  {
   "cell_type": "code",
   "execution_count": 11,
   "metadata": {
    "collapsed": true
   },
   "outputs": [],
   "source": [
    "train<-dataset[index,]"
   ]
  },
  {
   "cell_type": "code",
   "execution_count": 13,
   "metadata": {
    "collapsed": true
   },
   "outputs": [],
   "source": [
    "#对数据集进行汇总"
   ]
  },
  {
   "cell_type": "code",
   "execution_count": 14,
   "metadata": {
    "collapsed": false
   },
   "outputs": [
    {
     "data": {
      "text/html": [
       "<ol class=list-inline>\n",
       "\t<li>120</li>\n",
       "\t<li>5</li>\n",
       "</ol>\n"
      ],
      "text/latex": [
       "\\begin{enumerate*}\n",
       "\\item 120\n",
       "\\item 5\n",
       "\\end{enumerate*}\n"
      ],
      "text/markdown": [
       "1. 120\n",
       "2. 5\n",
       "\n",
       "\n"
      ],
      "text/plain": [
       "[1] 120   5"
      ]
     },
     "execution_count": 14,
     "metadata": {},
     "output_type": "execute_result"
    }
   ],
   "source": [
    "dim(train)#数据集的维度"
   ]
  },
  {
   "cell_type": "code",
   "execution_count": 15,
   "metadata": {
    "collapsed": false
   },
   "outputs": [
    {
     "data": {
      "text/html": [
       "<dl class=dl-horizontal>\n",
       "\t<dt>Sepal.Length</dt>\n",
       "\t\t<dd>'numeric'</dd>\n",
       "\t<dt>Sepal.Width</dt>\n",
       "\t\t<dd>'numeric'</dd>\n",
       "\t<dt>Petal.Length</dt>\n",
       "\t\t<dd>'numeric'</dd>\n",
       "\t<dt>Petal.Width</dt>\n",
       "\t\t<dd>'numeric'</dd>\n",
       "\t<dt>Species</dt>\n",
       "\t\t<dd>'factor'</dd>\n",
       "</dl>\n"
      ],
      "text/latex": [
       "\\begin{description*}\n",
       "\\item[Sepal.Length] 'numeric'\n",
       "\\item[Sepal.Width] 'numeric'\n",
       "\\item[Petal.Length] 'numeric'\n",
       "\\item[Petal.Width] 'numeric'\n",
       "\\item[Species] 'factor'\n",
       "\\end{description*}\n"
      ],
      "text/markdown": [
       "Sepal.Length\n",
       ":   'numeric'Sepal.Width\n",
       ":   'numeric'Petal.Length\n",
       ":   'numeric'Petal.Width\n",
       ":   'numeric'Species\n",
       ":   'factor'\n",
       "\n"
      ],
      "text/plain": [
       "Sepal.Length  Sepal.Width Petal.Length  Petal.Width      Species \n",
       "   \"numeric\"    \"numeric\"    \"numeric\"    \"numeric\"     \"factor\" "
      ]
     },
     "execution_count": 15,
     "metadata": {},
     "output_type": "execute_result"
    }
   ],
   "source": [
    "sapply(train,class)#属性的类型"
   ]
  },
  {
   "cell_type": "code",
   "execution_count": 16,
   "metadata": {
    "collapsed": false
   },
   "outputs": [
    {
     "name": "stdout",
     "output_type": "stream",
     "text": [
      "'data.frame':\t120 obs. of  5 variables:\n",
      " $ Sepal.Length: num  5.1 6.4 6.5 6 7.7 7.6 4.9 5 5.8 5.5 ...\n",
      " $ Sepal.Width : num  3.8 2.8 3.2 2.2 3 3 2.4 2.3 4 2.4 ...\n",
      " $ Petal.Length: num  1.6 5.6 5.1 4 6.1 6.6 3.3 3.3 1.2 3.7 ...\n",
      " $ Petal.Width : num  0.2 2.1 2 1 2.3 2.1 1 1 0.2 1 ...\n",
      " $ Species     : Factor w/ 3 levels \"setosa\",\"versicolor\",..: 1 3 3 2 3 3 2 2 1 2 ...\n"
     ]
    }
   ],
   "source": [
    "str(train)#可代替上面两个"
   ]
  },
  {
   "cell_type": "code",
   "execution_count": 17,
   "metadata": {
    "collapsed": false
   },
   "outputs": [
    {
     "data": {
      "text/html": [
       "<table>\n",
       "<thead><tr><th></th><th scope=col>Sepal.Length</th><th scope=col>Sepal.Width</th><th scope=col>Petal.Length</th><th scope=col>Petal.Width</th><th scope=col>Species</th></tr></thead>\n",
       "<tbody>\n",
       "\t<tr><th scope=row>47</th><td>5.1</td><td>3.8</td><td>1.6</td><td>0.2</td><td>setosa</td></tr>\n",
       "\t<tr><th scope=row>129</th><td>6.4</td><td>2.8</td><td>5.6</td><td>2.1</td><td>virginica</td></tr>\n",
       "\t<tr><th scope=row>111</th><td>6.5</td><td>3.2</td><td>5.1</td><td>2</td><td>virginica</td></tr>\n",
       "\t<tr><th scope=row>63</th><td>6</td><td>2.2</td><td>4</td><td>1</td><td>versicolor</td></tr>\n",
       "\t<tr><th scope=row>136</th><td>7.7</td><td>3</td><td>6.1</td><td>2.3</td><td>virginica</td></tr>\n",
       "\t<tr><th scope=row>106</th><td>7.6</td><td>3</td><td>6.6</td><td>2.1</td><td>virginica</td></tr>\n",
       "</tbody>\n",
       "</table>\n"
      ],
      "text/latex": [
       "\\begin{tabular}{r|lllll}\n",
       "  & Sepal.Length & Sepal.Width & Petal.Length & Petal.Width & Species\\\\\n",
       "\\hline\n",
       "\t47 & 5.1 & 3.8 & 1.6 & 0.2 & setosa\\\\\n",
       "\t129 & 6.4 & 2.8 & 5.6 & 2.1 & virginica\\\\\n",
       "\t111 & 6.5 & 3.2 & 5.1 & 2 & virginica\\\\\n",
       "\t63 & 6 & 2.2 & 4 & 1 & versicolor\\\\\n",
       "\t136 & 7.7 & 3 & 6.1 & 2.3 & virginica\\\\\n",
       "\t106 & 7.6 & 3 & 6.6 & 2.1 & virginica\\\\\n",
       "\\end{tabular}\n"
      ],
      "text/plain": [
       "    Sepal.Length Sepal.Width Petal.Length Petal.Width    Species\n",
       "47           5.1         3.8          1.6         0.2     setosa\n",
       "129          6.4         2.8          5.6         2.1  virginica\n",
       "111          6.5         3.2          5.1         2.0  virginica\n",
       "63           6.0         2.2          4.0         1.0 versicolor\n",
       "136          7.7         3.0          6.1         2.3  virginica\n",
       "106          7.6         3.0          6.6         2.1  virginica"
      ]
     },
     "execution_count": 17,
     "metadata": {},
     "output_type": "execute_result"
    }
   ],
   "source": [
    "head(train)#查看数据集"
   ]
  },
  {
   "cell_type": "code",
   "execution_count": 19,
   "metadata": {
    "collapsed": false
   },
   "outputs": [
    {
     "data": {
      "text/html": [
       "<ol class=list-inline>\n",
       "\t<li>'setosa'</li>\n",
       "\t<li>'versicolor'</li>\n",
       "\t<li>'virginica'</li>\n",
       "</ol>\n"
      ],
      "text/latex": [
       "\\begin{enumerate*}\n",
       "\\item 'setosa'\n",
       "\\item 'versicolor'\n",
       "\\item 'virginica'\n",
       "\\end{enumerate*}\n"
      ],
      "text/markdown": [
       "1. 'setosa'\n",
       "2. 'versicolor'\n",
       "3. 'virginica'\n",
       "\n",
       "\n"
      ],
      "text/plain": [
       "[1] \"setosa\"     \"versicolor\" \"virginica\" "
      ]
     },
     "execution_count": 19,
     "metadata": {},
     "output_type": "execute_result"
    }
   ],
   "source": [
    "levels(train$Species)#分类的层次"
   ]
  },
  {
   "cell_type": "code",
   "execution_count": 20,
   "metadata": {
    "collapsed": false
   },
   "outputs": [
    {
     "data": {
      "text/plain": [
       "  Sepal.Length    Sepal.Width     Petal.Length    Petal.Width   \n",
       " Min.   :4.300   Min.   :2.000   Min.   :1.000   Min.   :0.100  \n",
       " 1st Qu.:5.100   1st Qu.:2.800   1st Qu.:1.575   1st Qu.:0.300  \n",
       " Median :5.700   Median :3.000   Median :4.200   Median :1.300  \n",
       " Mean   :5.792   Mean   :3.068   Mean   :3.666   Mean   :1.167  \n",
       " 3rd Qu.:6.300   3rd Qu.:3.400   3rd Qu.:5.100   3rd Qu.:1.800  \n",
       " Max.   :7.700   Max.   :4.400   Max.   :6.900   Max.   :2.500  \n",
       "       Species  \n",
       " setosa    :42  \n",
       " versicolor:41  \n",
       " virginica :37  \n",
       "                \n",
       "                \n",
       "                "
      ]
     },
     "execution_count": 20,
     "metadata": {},
     "output_type": "execute_result"
    }
   ],
   "source": [
    "summary(train)#统计归纳"
   ]
  }
 ],
 "metadata": {
  "kernelspec": {
   "display_name": "R",
   "language": "R",
   "name": "ir"
  },
  "language_info": {
   "codemirror_mode": "r",
   "file_extension": ".r",
   "mimetype": "text/x-r-source",
   "name": "R",
   "pygments_lexer": "r",
   "version": "3.2.3"
  }
 },
 "nbformat": 4,
 "nbformat_minor": 0
}
